{
 "cells": [
  {
   "cell_type": "markdown",
   "id": "ea213ab0",
   "metadata": {},
   "source": [
    "###### Right Triangle Star Pattern\n",
    "###### *\n",
    "###### **\n",
    "###### ***\n",
    "###### ****\n",
    "###### *****"
   ]
  },
  {
   "cell_type": "code",
   "execution_count": 21,
   "id": "3333f335",
   "metadata": {},
   "outputs": [
    {
     "name": "stdout",
     "output_type": "stream",
     "text": [
      "*\n",
      "**\n",
      "***\n",
      "****\n",
      "*****\n"
     ]
    }
   ],
   "source": [
    "for i in range(1,6):\n",
    "    for j in range(1,i+1):\n",
    "        print('*',end=\"\")\n",
    "    print()\n",
    "        "
   ]
  },
  {
   "cell_type": "markdown",
   "id": "d1a96288",
   "metadata": {},
   "source": [
    "#### Inverted Right Triangle Star Pattern\n",
    "#### *****\n",
    "#### ****\n",
    "#### ***\n",
    "#### **\n",
    "#### *"
   ]
  },
  {
   "cell_type": "code",
   "execution_count": 20,
   "id": "6edbf678",
   "metadata": {},
   "outputs": [
    {
     "name": "stdout",
     "output_type": "stream",
     "text": [
      "******\n",
      "*****\n",
      "****\n",
      "***\n",
      "**\n",
      "*\n"
     ]
    }
   ],
   "source": [
    "for i in  range(5,-1,-1):\n",
    "    for j in range(0,i+1):\n",
    "        print(\"*\",end=\"\")\n",
    "    print()"
   ]
  },
  {
   "cell_type": "markdown",
   "id": "db103a59",
   "metadata": {},
   "source": [
    "Pyramid Star Pattern\n",
    "    *\n",
    "   ***\n",
    "  *****\n",
    " *******\n",
    "*********"
   ]
  },
  {
   "cell_type": "code",
   "execution_count": 51,
   "id": "933bec64",
   "metadata": {},
   "outputs": [
    {
     "name": "stdout",
     "output_type": "stream",
     "text": [
      "    *\n",
      "   ***\n",
      "  *****\n",
      " *******\n",
      "*********\n"
     ]
    }
   ],
   "source": [
    "for i in range(1,6):\n",
    "    print(' '*(5-i),end='')\n",
    "    print('*'*(2*i-1))\n",
    "   "
   ]
  },
  {
   "cell_type": "code",
   "execution_count": null,
   "id": "19f0d51b",
   "metadata": {},
   "outputs": [],
   "source": [
    "### Diamond Star Pattern\n",
    "###    *\n",
    "###   ***\n",
    "###  *****\n",
    "### *******\n",
    "###*********\n",
    "### *******\n",
    "###  *****\n",
    "###   ***\n",
    "###    *"
   ]
  },
  {
   "cell_type": "code",
   "execution_count": 58,
   "id": "39b27418",
   "metadata": {},
   "outputs": [
    {
     "name": "stdout",
     "output_type": "stream",
     "text": [
      "    *\n",
      "   ***\n",
      "  *****\n",
      " *******\n",
      "*********\n",
      " *******\n",
      "  *****\n",
      "   ***\n",
      "    *\n"
     ]
    }
   ],
   "source": [
    "for i in range(1,6):\n",
    "    print(\" \"*(5-i),end=\"\")\n",
    "    print('*'*(2*i-1))\n",
    "for i in range(4,0,-1):\n",
    "    print(\" \"*(5-i),end=\"\")\n",
    "    print('*'*(2*i-1))\n",
    "    "
   ]
  },
  {
   "cell_type": "markdown",
   "id": "7e64b3f9",
   "metadata": {},
   "source": [
    "### Simple Number Pattern\n",
    "### 1\n",
    "### 12\n",
    "### 123\n",
    "### 1234\n",
    "### 12345"
   ]
  },
  {
   "cell_type": "code",
   "execution_count": 62,
   "id": "9bf44af1",
   "metadata": {},
   "outputs": [
    {
     "name": "stdout",
     "output_type": "stream",
     "text": [
      "1\n",
      "12\n",
      "123\n",
      "1234\n",
      "12345\n"
     ]
    }
   ],
   "source": [
    "for i in range(1,6):\n",
    "    for j in range(1,i+1):\n",
    "        print(j,end=\"\")\n",
    "    print()"
   ]
  },
  {
   "cell_type": "markdown",
   "id": "ca7c2862",
   "metadata": {},
   "source": [
    "### Number Pyramid Pattern\n",
    "###     1\n",
    "###    2 2\n",
    "###   3 3 3\n",
    "###  4 4 4 4\n",
    "### 5 5 5 5 5"
   ]
  },
  {
   "cell_type": "code",
   "execution_count": 83,
   "id": "29fbb76c",
   "metadata": {},
   "outputs": [
    {
     "name": "stdout",
     "output_type": "stream",
     "text": [
      "    1 \n",
      "   2 2 \n",
      "  3 3 3 \n",
      " 4 4 4 4 \n",
      "5 5 5 5 5 \n"
     ]
    }
   ],
   "source": [
    "for i in range(1,6):\n",
    "    print(' '*(5-i),end=\"\")\n",
    "    for j in range(1,i+1):\n",
    "        print(i,end=\" \")\n",
    "    print()"
   ]
  },
  {
   "cell_type": "markdown",
   "id": "44847cc8",
   "metadata": {},
   "source": [
    "## Alphabet Pyramid Pattern\n",
    "###        A\n",
    "###      B B\n",
    "###    C C C\n",
    "###  D D D D\n",
    "### E E E E E"
   ]
  },
  {
   "cell_type": "code",
   "execution_count": 99,
   "id": "d4ed8f83",
   "metadata": {},
   "outputs": [
    {
     "name": "stdout",
     "output_type": "stream",
     "text": [
      "    A \n",
      "   B B \n",
      "  C C C \n",
      " D D D D \n",
      "E E E E E \n"
     ]
    }
   ],
   "source": [
    "n=5\n",
    "for i in range(1,n+1):\n",
    "    print(\" \"*(n-i),end=\"\")\n",
    "    for j in range(1,i+1):\n",
    "        print(chr(64+i),end=\" \")\n",
    "    print()"
   ]
  },
  {
   "cell_type": "code",
   "execution_count": 115,
   "id": "267509ef",
   "metadata": {},
   "outputs": [
    {
     "name": "stdout",
     "output_type": "stream",
     "text": [
      "     \n",
      "    A \n",
      "   B B \n",
      "  C C C \n",
      " D D D D \n",
      "E E E E E \n",
      " D D D D \n",
      "  C C C \n",
      "   B B \n",
      "    A \n"
     ]
    }
   ],
   "source": [
    "''''Diamond Character Pattern\n",
    "    A\n",
    "   B B\n",
    "  C C C\n",
    " D D D D\n",
    "E E E E E\n",
    " D D D D\n",
    "  C C C\n",
    "   B B\n",
    "    A'''\n",
    "n=5\n",
    "for i in range(n+1):\n",
    "    print(' '*(n-i),end=\"\")\n",
    "    for j in range(1,i+1):\n",
    "        print(chr(64+i),end=\" \")\n",
    "    print()\n",
    "    \n",
    "for i in range(n-1,0,-1):\n",
    "    print(' '*(n-i),end=\"\")\n",
    "    for j in range(1,i+1):\n",
    "        print(chr(64+i),end=\" \")\n",
    "    print()\n"
   ]
  },
  {
   "cell_type": "code",
   "execution_count": 120,
   "id": "ef74b348",
   "metadata": {},
   "outputs": [
    {
     "name": "stdout",
     "output_type": "stream",
     "text": [
      "1 \n",
      "2 3 \n",
      "4 5 6 \n",
      "7 8 9 10 \n",
      "11 12 13 14 15 \n"
     ]
    }
   ],
   "source": [
    "''''Floyd’s Triangle\n",
    "1\n",
    "2 3\n",
    "4 5 6\n",
    "7 8 9 10\n",
    "11 12 13 14 15'''\n",
    "row=5\n",
    "count=1\n",
    "for i in range(1,n+1):\n",
    "    for j in range(1,i+1):\n",
    "        print(count,end=\" \")\n",
    "        count+=1\n",
    "    print()"
   ]
  },
  {
   "cell_type": "markdown",
   "id": "d02dbf03",
   "metadata": {},
   "source": [
    "### w.a.p to print factorial of given number"
   ]
  },
  {
   "cell_type": "code",
   "execution_count": 136,
   "id": "f9156fba",
   "metadata": {},
   "outputs": [
    {
     "name": "stdout",
     "output_type": "stream",
     "text": [
      "enter the number :5\n",
      "factorial of 5 =  120\n"
     ]
    }
   ],
   "source": [
    "num=int(input(\"enter the number :\"))\n",
    "fact=1\n",
    "for i in range(n,0,-1):\n",
    "    fact*=i\n",
    "print(\"factorial of 5 = \",fact)"
   ]
  },
  {
   "cell_type": "markdown",
   "id": "e35fbf80",
   "metadata": {},
   "source": [
    "### count the vowels of given string"
   ]
  },
  {
   "cell_type": "code",
   "execution_count": 149,
   "id": "a2c6721d",
   "metadata": {},
   "outputs": [
    {
     "name": "stdout",
     "output_type": "stream",
     "text": [
      "sonuking\n",
      "NUMBER OF VOWELS IN sonuking = 3\n"
     ]
    }
   ],
   "source": [
    "strn=input()\n",
    "VOL=['a','e','i','o','u']\n",
    "count=0\n",
    "for i in (strn):\n",
    "    if i.lower() in VOL:\n",
    "        count+=1\n",
    "print(F\"NUMBER OF VOWELS IN {strn} = {count}\")"
   ]
  },
  {
   "cell_type": "markdown",
   "id": "a994d4b9",
   "metadata": {},
   "source": [
    "### find the longest word in a sentence using for loop"
   ]
  },
  {
   "cell_type": "code",
   "execution_count": 153,
   "id": "35a46d56",
   "metadata": {},
   "outputs": [
    {
     "name": "stdout",
     "output_type": "stream",
     "text": [
      "python by sonu\n",
      "python\n"
     ]
    }
   ],
   "source": [
    "sent=input()\n",
    "word=sent.split()\n",
    "longest=\"\"\n",
    "for i in (word):\n",
    "    if len(i)>len(longest):\n",
    "        longest=i\n",
    "print(longest)\n"
   ]
  },
  {
   "cell_type": "markdown",
   "id": "894daf36",
   "metadata": {},
   "source": [
    "### w.a.p to print fibonacci series"
   ]
  },
  {
   "cell_type": "code",
   "execution_count": 154,
   "id": "2eb87fab",
   "metadata": {},
   "outputs": [
    {
     "name": "stdout",
     "output_type": "stream",
     "text": [
      "enter the num5\n",
      "1\n",
      "2\n",
      "3\n",
      "5\n",
      "8\n"
     ]
    }
   ],
   "source": [
    "num=int(input(\"enter the num\"))\n",
    "a=0\n",
    "b=1\n",
    "c=a+b\n",
    "for i in range(1,n+1):\n",
    "    c=a+b\n",
    "    a=b\n",
    "    b=c\n",
    "    print(c)"
   ]
  },
  {
   "cell_type": "code",
   "execution_count": 9,
   "id": "62454943",
   "metadata": {},
   "outputs": [
    {
     "name": "stdout",
     "output_type": "stream",
     "text": [
      " * * * * *\n",
      "*     *     \n",
      "*     *     \n",
      "*     *     \n",
      " * * * * *\n"
     ]
    }
   ],
   "source": [
    "\n",
    "rows = 5\n",
    "\n",
    "for i in range(1, rows + 1):\n",
    "    if i == 1 or i == rows:\n",
    "        print(\" \"'*' * 5) \n",
    "    else:\n",
    "        print('*     '*2)\n"
   ]
  },
  {
   "cell_type": "code",
   "execution_count": 22,
   "id": "474a6432",
   "metadata": {},
   "outputs": [
    {
     "name": "stdout",
     "output_type": "stream",
     "text": [
      "* * * * *\n",
      "*       *\n",
      "*       *\n",
      "*       *\n",
      "* * * * *\n"
     ]
    }
   ],
   "source": [
    "rows = 5\n",
    "\n",
    "for i in range(1, rows + 1):\n",
    "    if i == 1 or i == rows:\n",
    "        print('* * * * *') \n",
    "    else:\n",
    "        print('*       *')"
   ]
  },
  {
   "cell_type": "code",
   "execution_count": 23,
   "id": "d5abec5d",
   "metadata": {},
   "outputs": [
    {
     "name": "stdout",
     "output_type": "stream",
     "text": [
      "* * * * * \n",
      "*       * \n",
      "*       * \n",
      "*       * \n",
      "* * * * * \n"
     ]
    }
   ],
   "source": [
    "n = 5\n",
    "for i in range(0,n):\n",
    "    for j in range(0,n):\n",
    "        if i==0 or i==n-1:\n",
    "            print('*',end = ' ')\n",
    "        else:\n",
    "            if j==0 or j==n-1:\n",
    "                print('*',end= ' ')\n",
    "            else:\n",
    "                print(' ',end= ' ')\n",
    "    print()"
   ]
  },
  {
   "cell_type": "code",
   "execution_count": 38,
   "id": "c1d07c3e",
   "metadata": {},
   "outputs": [
    {
     "name": "stdout",
     "output_type": "stream",
     "text": [
      "     *\n",
      "    ***\n",
      "   *****\n",
      "    ***\n",
      "     *\n"
     ]
    }
   ],
   "source": [
    "n=4\n",
    "for i in range(1,n):\n",
    "    print(\" \"*(5-i),end=\" \")\n",
    "    print('*'*(2*i-1))\n",
    "for i in range(2,0,-1):\n",
    "    print(\" \"*(5-i),end=\" \")\n",
    "    print('*'*(2*i-1))"
   ]
  },
  {
   "cell_type": "code",
   "execution_count": 34,
   "id": "01898125",
   "metadata": {},
   "outputs": [
    {
     "name": "stdout",
     "output_type": "stream",
     "text": [
      "     *\n",
      "    ***\n",
      "   *****\n",
      "  *******\n",
      "    ***\n",
      "     *\n"
     ]
    }
   ],
   "source": [
    "n=5\n",
    "for i in range(1,n):\n",
    "    print(\" \"*(n-i),end=\" \")\n",
    "    print('*'*(2*i-1))\n",
    "for i in range(2,0,-1):\n",
    "    print(\" \"*(n-i),end=\" \")\n",
    "    print('*'*(2*i-1))"
   ]
  },
  {
   "cell_type": "code",
   "execution_count": 40,
   "id": "5c6fcbe5",
   "metadata": {},
   "outputs": [
    {
     "name": "stdout",
     "output_type": "stream",
     "text": [
      "6\n",
      "     *\n",
      "    ***\n",
      "   *****\n",
      "  *******\n",
      " *********\n",
      "***********\n",
      " *********\n",
      "  *******\n",
      "   *****\n",
      "    ***\n",
      "     *\n"
     ]
    }
   ],
   "source": [
    "n = int(input(\"\"))  \n",
    "for i in range(1, n + 1):\n",
    "    print(\" \" * (n - i), end=\"\") \n",
    "    print(\"*\" * (2 * i - 1)) \n",
    "\n",
    "for i in range(n - 1, 0, -1):\n",
    "    print(\" \" * (n - i), end=\"\") \n",
    "    print(\"*\" * (2 * i - 1)) \n"
   ]
  },
  {
   "cell_type": "code",
   "execution_count": 43,
   "id": "3058477c",
   "metadata": {},
   "outputs": [
    {
     "name": "stdout",
     "output_type": "stream",
     "text": [
      "4\n",
      "   *\n",
      "  ***\n",
      " *****\n",
      "*******\n",
      " *****\n",
      "  ***\n",
      "   *\n"
     ]
    }
   ],
   "source": [
    "n = int(input(\"\"))  \n",
    "for i in range(1, 2 * n):  \n",
    "    if i <= n: \n",
    "        spaces = n - i\n",
    "        stars = 2 * i - 1\n",
    "    else: \n",
    "        spaces = i - n\n",
    "        stars = 2 * (2 * n - i) - 1\n",
    "    print(\" \" * spaces + \"*\" * stars)\n"
   ]
  },
  {
   "cell_type": "code",
   "execution_count": null,
   "id": "a5ef3c9a",
   "metadata": {},
   "outputs": [],
   "source": []
  }
 ],
 "metadata": {
  "kernelspec": {
   "display_name": "Python 3 (ipykernel)",
   "language": "python",
   "name": "python3"
  },
  "language_info": {
   "codemirror_mode": {
    "name": "ipython",
    "version": 3
   },
   "file_extension": ".py",
   "mimetype": "text/x-python",
   "name": "python",
   "nbconvert_exporter": "python",
   "pygments_lexer": "ipython3",
   "version": "3.9.12"
  }
 },
 "nbformat": 4,
 "nbformat_minor": 5
}
