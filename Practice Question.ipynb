{
 "cells": [
  {
   "cell_type": "markdown",
   "id": "4d782d66",
   "metadata": {},
   "source": [
    "#### 1W.A.P to calculate simple intrerest where principle amount , rate of intrest and time in years will be entered through keyboard."
   ]
  },
  {
   "cell_type": "code",
   "execution_count": 2,
   "id": "d335b110",
   "metadata": {},
   "outputs": [
    {
     "name": "stdout",
     "output_type": "stream",
     "text": [
      "enter the principle amount5000\n",
      "enter the rate of intrest5\n",
      "please enter the time in year5\n",
      "Simple Intrest= 1250.0\n"
     ]
    }
   ],
   "source": [
    "principle_amount=int(input(\"enter the principle amount\"))\n",
    "rate_of_intr=int(input(\"enter the rate of intrest\"))\n",
    "time_in_year=int(input(\"please enter the time in year\"))\n",
    "simple_int=(principle_amount*rate_of_intr*time_in_year)/100\n",
    "print(\"Simple Intrest=\",simple_int)"
   ]
  },
  {
   "cell_type": "markdown",
   "id": "7957726b",
   "metadata": {},
   "source": [
    "#### 2 W.A.P to calculate total and percentage of marks where marks of three subjects will be entered through keyboard"
   ]
  },
  {
   "cell_type": "code",
   "execution_count": 8,
   "id": "5ed2fbf8",
   "metadata": {},
   "outputs": [
    {
     "name": "stdout",
     "output_type": "stream",
     "text": [
      "enter the marks of subject1  100\n",
      "enter the marks of subject2  100\n",
      "enter the marks of subject3  100\n",
      "Total marks of Three subjects are=  300\n",
      "Percentage is=  100.0\n"
     ]
    }
   ],
   "source": [
    "sub1=int(input(\"enter the marks of subject1  \"))\n",
    "sub2=int(input(\"enter the marks of subject2  \"))\n",
    "sub3=int(input(\"enter the marks of subject3  \"))\n",
    "Total_Marks=(sub1+sub2+sub3)\n",
    "print(\"Total marks of Three subjects are= \",Total_Marks)\n",
    "Percentage=Total_Marks / 3\n",
    "print(\"Percentage is= \",Percentage)\n",
    "\n",
    "\n"
   ]
  },
  {
   "cell_type": "markdown",
   "id": "fc6be41f",
   "metadata": {},
   "source": [
    "#### 3.W.A.P to print find entered number is positive or negative or neither positive nor negative."
   ]
  },
  {
   "cell_type": "code",
   "execution_count": 12,
   "id": "fc7ff38d",
   "metadata": {},
   "outputs": [
    {
     "name": "stdout",
     "output_type": "stream",
     "text": [
      "Enter the number 0\n",
      "Neither positive nor negative\n"
     ]
    }
   ],
   "source": [
    "Number=int(input(\"Enter the number \"))\n",
    "if Number>0:\n",
    "    print(\"Given Number is positive\")\n",
    "elif Number<0:\n",
    "    print(\"Given Number is Negative\")\n",
    "else:\n",
    "    print(\"Neither positive nor negative\")"
   ]
  },
  {
   "cell_type": "markdown",
   "id": "7d13ec23",
   "metadata": {},
   "source": [
    "### 4.W.A.P to find all possible real roots of quadratic equation. Values of coefficients of quadratic will be entered through keyboard.\n",
    "# Discriminant, x= (-b+-√b^2-4ac) / 2a\n",
    "\n"
   ]
  },
  {
   "cell_type": "code",
   "execution_count": 22,
   "id": "de4ec179",
   "metadata": {},
   "outputs": [
    {
     "name": "stdout",
     "output_type": "stream",
     "text": [
      "Enter the Cofficients a 1\n",
      "Enter the Cofficients b 3\n",
      "Enter the Cofficients c 2\n",
      "The equation has two distinct real roots: -1.0 and -2.0\n"
     ]
    }
   ],
   "source": [
    "import math\n",
    "a=float(input(\"Enter the Cofficients a \"))\n",
    "b=float(input(\"Enter the Cofficients b \"))\n",
    "c=float(input(\"Enter the Cofficients c \"))\n",
    "discriminant=(b**2)-(4*a*c)\n",
    "if discriminant>0:\n",
    "    root1=(-b+math.sqrt(discriminant))/(2*a)\n",
    "    root2=(-b-math.sqrt(discriminant))/(2*a)\n",
    "    print(f\"The equation has two distinct real roots: {root1} and {root2}\")\n",
    "elif discriminant==0:\n",
    "           root=-b/(2*a)\n",
    "           print(f\"The equation has one real root: {root}\")\n",
    "else:\n",
    "    print(\"The equation has no real roots (the roots are complex).\")\n",
    "           "
   ]
  },
  {
   "cell_type": "markdown",
   "id": "40d77990",
   "metadata": {},
   "source": [
    "### 5.The mark obtained by a student in 5 different subjects are input through keyboard.The student gets a division as per the following condition:\n",
    "### percentage above or equal to 60 - First Devision\n",
    "### percentage between 45 and 59 - Second Devision\n",
    "### percentage between 33 and 45 - Third Devision\n",
    "### percentage Below 33 - Fail"
   ]
  },
  {
   "cell_type": "code",
   "execution_count": 26,
   "id": "2c0fe23d",
   "metadata": {},
   "outputs": [
    {
     "name": "stdout",
     "output_type": "stream",
     "text": [
      "Enter the Mark of sub1 80\n",
      "Enter the Mark of sub2 50\n",
      "Enter the Mark of sub3 78\n",
      "Enter the Mark of sub4 80\n",
      "Enter the Mark of sub5 74\n",
      "72.4\n",
      "First Devision\n"
     ]
    }
   ],
   "source": [
    "sub1=int(input(\"Enter the Mark of sub1 \"))\n",
    "sub2=int(input(\"Enter the Mark of sub2 \"))\n",
    "sub3=int(input(\"Enter the Mark of sub3 \"))\n",
    "sub4=int(input(\"Enter the Mark of sub4 \"))\n",
    "sub5=int(input(\"Enter the Mark of sub5 \"))\n",
    "Total_Mark=(sub1+sub2+sub3+sub4+sub5)\n",
    "percentage=(Total_Mark)/5\n",
    "print(percentage)\n",
    "if percentage>=60:\n",
    "    print(\"First Devision\")\n",
    "elif percentage<60 and percentage>=45:\n",
    "    print(\"Second Devision\")\n",
    "elif percentage<45 and percentage>=33:\n",
    "    print(\"Third Devision\")\n",
    "else:\n",
    "    print(\"Fail\")"
   ]
  },
  {
   "cell_type": "markdown",
   "id": "308f0005",
   "metadata": {},
   "source": [
    "#### 6.W.A.P to print all cases of divisibility of an entered number by 3 and 5 using nested if-else statement"
   ]
  },
  {
   "cell_type": "code",
   "execution_count": 31,
   "id": "7a8fceb5",
   "metadata": {},
   "outputs": [
    {
     "name": "stdout",
     "output_type": "stream",
     "text": [
      "Enter the number 20\n",
      " The number 20 is divisible by 5 but not divisible by 3\n"
     ]
    }
   ],
   "source": [
    "number=int(input(\"Enter the number \"))\n",
    "if number % 3==0:\n",
    "    if number % 5==0:\n",
    "        print(f\"The number {number} is divisible by both 3 and 5\")\n",
    "    else:\n",
    "        print(f\"The number {number} is divisible by 3 but not by 5\")\n",
    "else:\n",
    "    if number % 5==0:\n",
    "        print(f\" The number {number} is divisible by 5 but not divisible by 3\")\n",
    "    else:\n",
    "        print(f\"The number {number} is not divisible by 3 and 5\")"
   ]
  },
  {
   "cell_type": "markdown",
   "id": "9adb673b",
   "metadata": {},
   "source": [
    "#### 7.W.A.P to print sum of n natural number"
   ]
  },
  {
   "cell_type": "code",
   "execution_count": 3,
   "id": "b5594b3f",
   "metadata": {},
   "outputs": [
    {
     "name": "stdout",
     "output_type": "stream",
     "text": [
      "9\n",
      "45\n"
     ]
    }
   ],
   "source": [
    "num=int(input())\n",
    "sum=0\n",
    "i=1\n",
    "while i<=num:\n",
    "    sum+=i\n",
    "    i+=1\n",
    "print(sum)"
   ]
  },
  {
   "cell_type": "code",
   "execution_count": 8,
   "id": "8362d197",
   "metadata": {},
   "outputs": [
    {
     "name": "stdout",
     "output_type": "stream",
     "text": [
      "enter the num :9\n",
      "sum of 9 natural number is 45:\n"
     ]
    }
   ],
   "source": [
    "num=int(input(\"enter the num :\"))\n",
    "sum=0\n",
    "for i in range(0,num+1):\n",
    "    sum=sum+i\n",
    "print(f\"sum of {num} natural number is {sum}:\")"
   ]
  },
  {
   "cell_type": "markdown",
   "id": "ecc4bb6a",
   "metadata": {},
   "source": [
    "#### 8.W.A.P to print table of entered num"
   ]
  },
  {
   "cell_type": "code",
   "execution_count": null,
   "id": "11113a3a",
   "metadata": {},
   "outputs": [],
   "source": [
    "num=int(input(\"Enter the number \"))\n",
    "print(f\"table of {num} :\")\n",
    "for i in range(1,11):\n",
    "    print(i*num)\n",
    "\n",
    "    \n",
    "    "
   ]
  },
  {
   "cell_type": "markdown",
   "id": "d3dd6035",
   "metadata": {},
   "source": [
    "#### 9.W.A.P to print factorial of entred num"
   ]
  },
  {
   "cell_type": "code",
   "execution_count": 2,
   "id": "38445bad",
   "metadata": {},
   "outputs": [
    {
     "name": "stdout",
     "output_type": "stream",
     "text": [
      "enter the num4\n",
      "24\n"
     ]
    }
   ],
   "source": [
    "num=int(input(\"enter the num \"))\n",
    "factorial=1\n",
    "for i in range(1,num+1):\n",
    "    factorial*=i\n",
    "print(factorial)"
   ]
  },
  {
   "cell_type": "markdown",
   "id": "68448140",
   "metadata": {},
   "source": [
    "#### 10.w.a.p to print n terms of fibonacci series"
   ]
  },
  {
   "cell_type": "code",
   "execution_count": 1,
   "id": "011c796c",
   "metadata": {},
   "outputs": [
    {
     "name": "stdout",
     "output_type": "stream",
     "text": [
      "5\n",
      "0 1 1 2 3 "
     ]
    }
   ],
   "source": [
    "n=int(input())\n",
    "a=0\n",
    "b=1\n",
    "if n==1:\n",
    "    print(a)\n",
    "else:\n",
    "    print(a,end=\" \")\n",
    "    print(b,end=\" \")\n",
    "    for i in range(2,n):\n",
    "        c=a+b\n",
    "        a=b\n",
    "        b=c\n",
    "        print(c,end=\" \")"
   ]
  },
  {
   "cell_type": "markdown",
   "id": "9a5e31d4",
   "metadata": {},
   "source": [
    "#### 11.w.a.p to find sum of digits of entered number."
   ]
  },
  {
   "cell_type": "code",
   "execution_count": 7,
   "id": "d0f51bd5",
   "metadata": {},
   "outputs": [
    {
     "name": "stdout",
     "output_type": "stream",
     "text": [
      "enter the number231\n",
      "6\n"
     ]
    }
   ],
   "source": [
    "\"\"\"number=int(input(\"enter the number\"))\n",
    "sum=0\n",
    "while number>0:\n",
    "    sum=sum+number%10\n",
    "    number=number//10\n",
    "print(f\"sum of digit of given number number is {sum} :\")\"\"\"\n",
    "number=int(input(\"enter the number\"))\n",
    "sum=0\n",
    "for i in str(number):\n",
    "    sum=(sum+int(i))\n",
    "print(sum)\n"
   ]
  },
  {
   "cell_type": "raw",
   "id": "ffb98e9c",
   "metadata": {},
   "source": [
    "#### w.a.p to get reverse of entered number"
   ]
  },
  {
   "cell_type": "code",
   "execution_count": 16,
   "id": "b0b90ef7",
   "metadata": {},
   "outputs": [
    {
     "name": "stdout",
     "output_type": "stream",
     "text": [
      "Enter the number121\n",
      "121\n"
     ]
    }
   ],
   "source": [
    "n=int(input(\"Enter the number\"))\n",
    "rev=0\n",
    "while n>0:\n",
    "    rev=rev*10+n%10\n",
    "    n=n//10\n",
    "print(rev)"
   ]
  },
  {
   "cell_type": "markdown",
   "id": "0fefb220",
   "metadata": {},
   "source": [
    "#### 12.w.a.p to find enter number id palindrome or not"
   ]
  },
  {
   "cell_type": "code",
   "execution_count": 5,
   "id": "a8a9bfc8",
   "metadata": {},
   "outputs": [
    {
     "name": "stdout",
     "output_type": "stream",
     "text": [
      "999\n",
      "given number 999 is palindrome\n"
     ]
    }
   ],
   "source": [
    "\"\"\"n=int(input(\"enter the number\"))\n",
    "rev=0\n",
    "original=n\n",
    "while n>0:\n",
    "    rev=rev*10+n%10\n",
    "    n=n//10\n",
    "print(rev)\n",
    "if original==rev:\n",
    "    print(\"Given number is palindrome\")\n",
    "else:\n",
    "    print(\"Not palindrome Number\")\"\"\"\n",
    "n=int(input())\n",
    "while n>0:\n",
    "    if str(n)==str(n)[::-1]:\n",
    "        print(f\"given number {n} is palindrome\")\n",
    "    else:\n",
    "        print(\"not palindrome\")\n",
    "    n=0\n",
    "        "
   ]
  },
  {
   "cell_type": "markdown",
   "id": "c915dee9",
   "metadata": {},
   "source": [
    "#### 13.w.a.p to print enter number is armstrong number or not"
   ]
  },
  {
   "cell_type": "code",
   "execution_count": 1,
   "id": "b5924e5c",
   "metadata": {},
   "outputs": [
    {
     "name": "stdout",
     "output_type": "stream",
     "text": [
      "1634\n",
      "Given number is armstrong\n"
     ]
    }
   ],
   "source": [
    "num=int(input())\n",
    "original=num\n",
    "num_l=len(str(num))\n",
    "armstrong=0\n",
    "while num>0:\n",
    "    armstrong=armstrong+(num%10)**num_l\n",
    "    num=num//10\n",
    "if original==armstrong:\n",
    "    print(\"Given number is armstrong\")\n",
    "else:\n",
    "    print(f\"Given Number {original} is not armstrong\")"
   ]
  },
  {
   "cell_type": "markdown",
   "id": "9616b62b",
   "metadata": {},
   "source": [
    "#### 14.w.a.p to print prime number"
   ]
  },
  {
   "cell_type": "code",
   "execution_count": 3,
   "id": "a4249e14",
   "metadata": {},
   "outputs": [
    {
     "name": "stdout",
     "output_type": "stream",
     "text": [
      "8\n",
      "not prime\n"
     ]
    }
   ],
   "source": [
    "num=int(input())\n",
    "i=1\n",
    "count=0\n",
    "while i<=num:\n",
    "    if num%i==0:\n",
    "        count+=1\n",
    "    i+=1\n",
    "if count==2:\n",
    "    print(\"prime\")\n",
    "else:\n",
    "    print(\"not prime\")"
   ]
  },
  {
   "cell_type": "markdown",
   "id": "2cffac80",
   "metadata": {},
   "source": [
    "#### 15.w.a.p to print prime number between 1 to 100 "
   ]
  },
  {
   "cell_type": "code",
   "execution_count": 2,
   "id": "88b8a01d",
   "metadata": {},
   "outputs": [
    {
     "name": "stdout",
     "output_type": "stream",
     "text": [
      "2 3 5 7 11 13 17 19 23 29 31 37 41 43 47 53 59 61 67 71 73 79 83 89 97 "
     ]
    }
   ],
   "source": [
    "\n",
    "for i in range(1,101):\n",
    "    if i>1:\n",
    "        for j in range(2,i):\n",
    "            if i%j==0:\n",
    "                break\n",
    "        else:\n",
    "            print(i,end=\" \")\n",
    "    "
   ]
  },
  {
   "cell_type": "markdown",
   "id": "0d2afe79",
   "metadata": {},
   "source": [
    "#### 17.w.a.p tp print palindrome num between 1 to 100"
   ]
  },
  {
   "cell_type": "code",
   "execution_count": 2,
   "id": "f8408501",
   "metadata": {},
   "outputs": [
    {
     "name": "stdout",
     "output_type": "stream",
     "text": [
      "Palindrome numbers between 1 and 100:\n",
      "1 2 3 4 5 6 7 8 9 11 22 33 44 55 66 77 88 99 "
     ]
    }
   ],
   "source": [
    "print(\"Palindrome numbers between 1 and 100:\")\n",
    "for num in range(1, 101):\n",
    "    if str(num) == str(num)[::-1]:\n",
    "        print(num, end=\" \")\n",
    "\n",
    "    \n",
    "    "
   ]
  },
  {
   "cell_type": "code",
   "execution_count": 10,
   "id": "254acd69",
   "metadata": {},
   "outputs": [
    {
     "name": "stdout",
     "output_type": "stream",
     "text": [
      "5\n",
      "[0, 1, 1, 8, 27]\n"
     ]
    }
   ],
   "source": [
    "def fibonacci(n):\n",
    "    a=0\n",
    "    b=1\n",
    "    l1=[]\n",
    "    if n==1:\n",
    "        l1.append(n)\n",
    "    else:\n",
    "        l1.append(a)\n",
    "        l1.append(b)\n",
    "        for i in range(2,n):\n",
    "            c=a+b\n",
    "            a=b\n",
    "            b=c\n",
    "            l1.append(c)\n",
    "    return l1\n",
    "n2=int(input())\n",
    "l2=fibonacci(n2)\n",
    "fib_sr_cube=list(map(lambda x: x**3,l2))\n",
    "print(fib_sr_cube)"
   ]
  },
  {
   "cell_type": "markdown",
   "id": "2b6eac42",
   "metadata": {},
   "source": [
    "### Problem: Given a list, reverse its elements.\n",
    "### Example:\n",
    "### Input: [1, 2, 3, 4, 5]\n",
    "### Output: [5, 4, 3, 2, 1]"
   ]
  },
  {
   "cell_type": "code",
   "execution_count": 2,
   "id": "503796d9",
   "metadata": {},
   "outputs": [
    {
     "name": "stdout",
     "output_type": "stream",
     "text": [
      "[5, 4, 3, 2, 1]\n"
     ]
    }
   ],
   "source": [
    "n=[1,2,3,4,5]\n",
    "print(n[::-1])"
   ]
  },
  {
   "cell_type": "markdown",
   "id": "b32866c6",
   "metadata": {},
   "source": [
    "### Problem: Find the largest and smallest elements in a list.\n",
    "### Input: [3, 5, 7, 2, 8]  Output: Largest: 8, Smallest: 2\n"
   ]
  },
  {
   "cell_type": "code",
   "execution_count": 7,
   "id": "bb389dcf",
   "metadata": {},
   "outputs": [
    {
     "name": "stdout",
     "output_type": "stream",
     "text": [
      "Largest:8,Smallest:2\n"
     ]
    }
   ],
   "source": [
    "n=[3,5,7,2,8]\n",
    "print(f\"Largest:{max(n)},Smallest:{min(n)}\")"
   ]
  },
  {
   "cell_type": "markdown",
   "id": "ea540eb9",
   "metadata": {},
   "source": [
    "### Remove Duplicates from a List\n",
    "### Problem: Remove all duplicate elements while maintaining the order.\n",
    "### Input: [1, 2, 2, 3, 4, 4, 5] , Output: [1, 2, 3, 4, 5]\n",
    "\n"
   ]
  },
  {
   "cell_type": "code",
   "execution_count": 10,
   "id": "996dfd81",
   "metadata": {},
   "outputs": [
    {
     "name": "stdout",
     "output_type": "stream",
     "text": [
      "[1, 2, 3, 4, 5]\n"
     ]
    }
   ],
   "source": [
    "\"\"\"n=[1,2,2,3,4,4,5]\n",
    "print(list(set(n)))\"\"\"\n",
    "n=[1,2,2,3,4,4,5]\n",
    "uni=[]\n",
    "for i in n:\n",
    "    if i not in uni:\n",
    "        uni.append(i)\n",
    "print(uni)"
   ]
  },
  {
   "cell_type": "markdown",
   "id": "85f04f4c",
   "metadata": {},
   "source": [
    "### Problem: Merge two sorted lists into one sorted list.\n",
    "### Input: [1, 3, 5], [2, 4, 6] , Output: [1, 2, 3, 4, 5, 6]\n"
   ]
  },
  {
   "cell_type": "code",
   "execution_count": 22,
   "id": "18efbeb3",
   "metadata": {},
   "outputs": [
    {
     "name": "stdout",
     "output_type": "stream",
     "text": [
      "[1, 2, 3, 4, 5, 6]\n"
     ]
    }
   ],
   "source": [
    "\"\"\"n=[1,3,5]\n",
    "n2=[2,4,6]\n",
    "n.extend(n2)\n",
    "print(sorted(n))\"\"\"\n",
    "n=[1,3,5]\n",
    "n2=[2,4,6]\n",
    "merge=sorted(n+n2)\n",
    "print(merge)"
   ]
  },
  {
   "cell_type": "markdown",
   "id": "e4f9422a",
   "metadata": {},
   "source": [
    "### Problem: Find the second largest number in a list without using the built-in sort() method.\n",
    "### Input: [10, 20, 4, 45, 99] , Output: 45\n"
   ]
  },
  {
   "cell_type": "code",
   "execution_count": 25,
   "id": "c3a2f288",
   "metadata": {},
   "outputs": [
    {
     "name": "stdout",
     "output_type": "stream",
     "text": [
      "45\n"
     ]
    }
   ],
   "source": [
    "n=[10,20,4,45,99]\n",
    "n=list(set(n))\n",
    "n.remove(max(n))\n",
    "print(max(n))"
   ]
  },
  {
   "cell_type": "markdown",
   "id": "d70617b2",
   "metadata": {},
   "source": [
    "### Problem: Rotate a list by , 𝑘 positions to the right\n",
    "### Input: [1, 2, 3, 4, 5], k=2 , Output: [4, 5, 1, 2, 3]\n",
    "\n"
   ]
  },
  {
   "cell_type": "code",
   "execution_count": 29,
   "id": "76684fb0",
   "metadata": {},
   "outputs": [
    {
     "name": "stdout",
     "output_type": "stream",
     "text": [
      "[4, 5, 1, 2, 3]\n"
     ]
    }
   ],
   "source": [
    "n=[1,2,3,4,5]\n",
    "k=2\n",
    "n1=n[-2:]\n",
    "n2=n[:-2]\n",
    "print(n1+n2)"
   ]
  },
  {
   "cell_type": "markdown",
   "id": "5466c6ce",
   "metadata": {},
   "source": [
    "### Problem: Determine if a list reads the same forward and backward.\n",
    "### Input: [1, 2, 3, 2, 1] , Output: True\n"
   ]
  },
  {
   "cell_type": "code",
   "execution_count": 37,
   "id": "95b3b421",
   "metadata": {},
   "outputs": [
    {
     "name": "stdout",
     "output_type": "stream",
     "text": [
      "True\n"
     ]
    }
   ],
   "source": [
    "n=[1,2,3,2,1]\n",
    "n1=n[::-1]\n",
    "if n==n1:\n",
    "    print(\"True\")"
   ]
  },
  {
   "cell_type": "markdown",
   "id": "5063f8d3",
   "metadata": {},
   "source": [
    "### Problem: Flatten a list that contains other lists.\n",
    "### Input: [1, [2, 3], [4, [5, 6]]] , Output: [1, 2, 3, 4, 5, 6]\n"
   ]
  },
  {
   "cell_type": "code",
   "execution_count": 43,
   "id": "dbda5ec8",
   "metadata": {},
   "outputs": [
    {
     "name": "stdout",
     "output_type": "stream",
     "text": [
      "[1, 2, 3, 4, 5, 6]\n"
     ]
    }
   ],
   "source": [
    "def flatten_list(nested_list):\n",
    "    flattened = []\n",
    "    for item in nested_list:\n",
    "        if isinstance(item, list):  \n",
    "            flattened.extend(flatten_list(item))\n",
    "        else:\n",
    "            flattened.append(item) \n",
    "    return flattened\n",
    "\n",
    "# Example usage\n",
    "nested_list = [1, [2, 3], [4, [5, 6]]]\n",
    "result = flatten_list(nested_list)\n",
    "print(result)\n",
    "\n"
   ]
  },
  {
   "cell_type": "code",
   "execution_count": 39,
   "id": "a7bd370a",
   "metadata": {},
   "outputs": [
    {
     "data": {
      "text/plain": [
       "3"
      ]
     },
     "execution_count": 39,
     "metadata": {},
     "output_type": "execute_result"
    }
   ],
   "source": [
    "###Count Occurrences of an Element\n",
    "nums = [1, 2, 3, 2, 4, 2, 5]\n",
    "x = 2\n",
    "count=nums.count(x)\n",
    "count"
   ]
  },
  {
   "cell_type": "code",
   "execution_count": null,
   "id": "25547330",
   "metadata": {},
   "outputs": [],
   "source": [
    "nested_list = [1, [2, 3], [4, [5, 6]]]\n",
    "\n",
    "flattened = []\n",
    "for item in nested_list:\n",
    "    if isinstance(item, list):  \n",
    "        for sub_item in item:  # Iterate through the sublist\n",
    "            if isinstance(sub_item, list):  # If there's further nesting\n",
    "                for sub_sub_item in sub_item:\n",
    "                    flattened.append(sub_sub_item)\n",
    "            else:\n",
    "                flattened.append(sub_item)  \n",
    "    else:\n",
    "        flattened.append(item) \n",
    "\n",
    "print(flattened)\n"
   ]
  }
 ],
 "metadata": {
  "kernelspec": {
   "display_name": "Python 3 (ipykernel)",
   "language": "python",
   "name": "python3"
  },
  "language_info": {
   "codemirror_mode": {
    "name": "ipython",
    "version": 3
   },
   "file_extension": ".py",
   "mimetype": "text/x-python",
   "name": "python",
   "nbconvert_exporter": "python",
   "pygments_lexer": "ipython3",
   "version": "3.9.12"
  }
 },
 "nbformat": 4,
 "nbformat_minor": 5
}
